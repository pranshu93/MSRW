{
 "cells": [
  {
   "cell_type": "code",
   "execution_count": 1,
   "metadata": {},
   "outputs": [
    {
     "name": "stderr",
     "output_type": "stream",
     "text": [
      "Using TensorFlow backend.\n"
     ]
    }
   ],
   "source": [
    "import numpy as np\n",
    "import pandas as pd\n",
    "import math\n",
    "from keras.utils import np_utils\n",
    "from sklearn.model_selection import train_test_split\n",
    "from keras.models import Sequential, load_model\n",
    "from keras.layers import Dense, Dropout, LSTM, Conv2D, MaxPooling2D, Reshape, Flatten\n",
    "from keras.constraints import maxnorm\n",
    "from keras.callbacks import LearningRateScheduler\n",
    "from keras.wrappers.scikit_learn import KerasClassifier\n",
    "from sklearn.model_selection import GridSearchCV"
   ]
  },
  {
   "cell_type": "code",
   "execution_count": 2,
   "metadata": {
    "collapsed": true
   },
   "outputs": [],
   "source": [
    "train = pd.read_csv('../Data/Bike_Human/bike_human.csv')\n",
    "train = train.sample(frac=1)"
   ]
  },
  {
   "cell_type": "code",
   "execution_count": 3,
   "metadata": {
    "collapsed": true
   },
   "outputs": [],
   "source": [
    "X = (train.iloc[:,:train.shape[1]-1].values).astype('float32')\n",
    "Y = train.iloc[:,-1].values.astype('int32')\n",
    "X_train, X_test, Y_train, Y_test = train_test_split(X, Y, test_size=0.3, random_state=42) "
   ]
  },
  {
   "cell_type": "code",
   "execution_count": 4,
   "metadata": {
    "collapsed": true
   },
   "outputs": [],
   "source": [
    "def build_model(filters_1 = 64, filters_2 = 64, pool_size = (2, 2), fc_units_1 = 32, fc_units_2 = 32, dropout=0.2):\n",
    "    model = Sequential()\n",
    "    model.add(Conv2D(filters_1, kernel_size=(1, 8), strides=(1, 4), input_shape=(windows, window_dim, 1), padding='same', activation='relu', kernel_constraint=maxnorm(3), data_format='channels_last'))\n",
    "    model.add(Dropout(dropout))\n",
    "    model.add(Conv2D(filters_2, kernel_size=(1, 4), strides=(1, 2), activation='relu', padding='same', kernel_constraint=maxnorm(3)))\n",
    "    model.add(MaxPooling2D(pool_size=pool_size))\n",
    "    #model.add(Reshape((5*6,32)))\n",
    "    #model.add(LSTM(32, return_sequences=False))\n",
    "    model.add(Flatten())\n",
    "    model.add(Dense(fc_units_1, activation='relu', kernel_constraint=maxnorm(3)))\n",
    "    model.add(Dropout(0.2))\n",
    "    model.add(Dense(fc_units_2, activation='relu', kernel_constraint=maxnorm(3)))\n",
    "    model.add(Dense(1, activation='sigmoid'))\n",
    "    model.compile(loss='binary_crossentropy', optimizer='adam', metrics=['accuracy'])\n",
    "    return model"
   ]
  },
  {
   "cell_type": "code",
   "execution_count": 5,
   "metadata": {
    "collapsed": true
   },
   "outputs": [],
   "source": [
    "def scheduler(epoch):\n",
    "    initial_lrate = 0.001\n",
    "    if epoch%5 == 0:\n",
    "        lrate = initial_lrate * 0.01\n",
    "    return lrate"
   ]
  },
  {
   "cell_type": "code",
   "execution_count": 6,
   "metadata": {
    "collapsed": true
   },
   "outputs": [],
   "source": [
    "windows = 10\n",
    "window_dim = 50\n",
    "\n",
    "X_train = X_train.reshape(X_train.shape[0], windows, window_dim, 1)\n",
    "X_test = X_test.reshape(X_test.shape[0], windows, window_dim, 1)\n",
    "\n",
    "lrate = LearningRateScheduler(scheduler)\n",
    "\n",
    "model = KerasClassifier(build_fn = build_model, verbose=0)\n",
    "batch_size = [20]\n",
    "epochs = [10]\n",
    "dropout = [0.2]\n",
    "filters1 = [32, 64]\n",
    "filters2 = [32, 64]\n",
    "pool_size = [(2, 2)]\n",
    "nodes1 = [128, 512]\n",
    "nodes2 = [32, 10]\n",
    "param_grid = dict(batch_size=batch_size, epochs=epochs, filters_1 = filters1, filters_2 = filters2, pool_size = pool_size, fc_units_1=nodes1, fc_units_2=nodes2, dropout = dropout)\n",
    "grid = GridSearchCV(estimator=model, param_grid=param_grid, n_jobs=-1, cv = 5) #sk_params={'callbacks': [lrate]}\n",
    "grid_result = grid.fit(X_train, Y_train)"
   ]
  },
  {
   "cell_type": "code",
   "execution_count": 7,
   "metadata": {},
   "outputs": [
    {
     "name": "stdout",
     "output_type": "stream",
     "text": [
      "Best: 0.742773 using {'fc_units_2': 32, 'fc_units_1': 128, 'dropout': 0.2, 'batch_size': 20, 'pool_size': (2, 2), 'epochs': 10, 'filters_1': 32, 'filters_2': 32}\n",
      "0.742773 (0.014623) with: {'fc_units_2': 32, 'fc_units_1': 128, 'dropout': 0.2, 'batch_size': 20, 'pool_size': (2, 2), 'epochs': 10, 'filters_1': 32, 'filters_2': 32}\n",
      "0.725178 (0.013265) with: {'fc_units_2': 32, 'fc_units_1': 128, 'dropout': 0.2, 'batch_size': 20, 'pool_size': (2, 2), 'epochs': 10, 'filters_1': 32, 'filters_2': 64}\n",
      "0.731043 (0.012689) with: {'fc_units_2': 32, 'fc_units_1': 128, 'dropout': 0.2, 'batch_size': 20, 'pool_size': (2, 2), 'epochs': 10, 'filters_1': 64, 'filters_2': 32}\n",
      "0.726854 (0.016840) with: {'fc_units_2': 32, 'fc_units_1': 128, 'dropout': 0.2, 'batch_size': 20, 'pool_size': (2, 2), 'epochs': 10, 'filters_1': 64, 'filters_2': 64}\n",
      "0.733557 (0.007123) with: {'fc_units_2': 10, 'fc_units_1': 128, 'dropout': 0.2, 'batch_size': 20, 'pool_size': (2, 2), 'epochs': 10, 'filters_1': 32, 'filters_2': 32}\n",
      "0.738375 (0.016505) with: {'fc_units_2': 10, 'fc_units_1': 128, 'dropout': 0.2, 'batch_size': 20, 'pool_size': (2, 2), 'epochs': 10, 'filters_1': 32, 'filters_2': 64}\n",
      "0.732719 (0.012696) with: {'fc_units_2': 10, 'fc_units_1': 128, 'dropout': 0.2, 'batch_size': 20, 'pool_size': (2, 2), 'epochs': 10, 'filters_1': 64, 'filters_2': 32}\n",
      "0.730205 (0.009526) with: {'fc_units_2': 10, 'fc_units_1': 128, 'dropout': 0.2, 'batch_size': 20, 'pool_size': (2, 2), 'epochs': 10, 'filters_1': 64, 'filters_2': 64}\n",
      "0.719732 (0.020185) with: {'fc_units_2': 32, 'fc_units_1': 512, 'dropout': 0.2, 'batch_size': 20, 'pool_size': (2, 2), 'epochs': 10, 'filters_1': 32, 'filters_2': 32}\n",
      "0.705907 (0.018686) with: {'fc_units_2': 32, 'fc_units_1': 512, 'dropout': 0.2, 'batch_size': 20, 'pool_size': (2, 2), 'epochs': 10, 'filters_1': 32, 'filters_2': 64}\n",
      "0.727482 (0.012859) with: {'fc_units_2': 32, 'fc_units_1': 512, 'dropout': 0.2, 'batch_size': 20, 'pool_size': (2, 2), 'epochs': 10, 'filters_1': 64, 'filters_2': 32}\n",
      "0.726016 (0.015409) with: {'fc_units_2': 32, 'fc_units_1': 512, 'dropout': 0.2, 'batch_size': 20, 'pool_size': (2, 2), 'epochs': 10, 'filters_1': 64, 'filters_2': 64}\n",
      "0.718056 (0.007657) with: {'fc_units_2': 10, 'fc_units_1': 512, 'dropout': 0.2, 'batch_size': 20, 'pool_size': (2, 2), 'epochs': 10, 'filters_1': 32, 'filters_2': 32}\n",
      "0.720779 (0.006975) with: {'fc_units_2': 10, 'fc_units_1': 512, 'dropout': 0.2, 'batch_size': 20, 'pool_size': (2, 2), 'epochs': 10, 'filters_1': 32, 'filters_2': 64}\n",
      "0.719313 (0.012986) with: {'fc_units_2': 10, 'fc_units_1': 512, 'dropout': 0.2, 'batch_size': 20, 'pool_size': (2, 2), 'epochs': 10, 'filters_1': 64, 'filters_2': 32}\n",
      "0.727063 (0.019958) with: {'fc_units_2': 10, 'fc_units_1': 512, 'dropout': 0.2, 'batch_size': 20, 'pool_size': (2, 2), 'epochs': 10, 'filters_1': 64, 'filters_2': 64}\n"
     ]
    }
   ],
   "source": [
    "print \"Best: %f using %s\" % (grid_result.best_score_, grid_result.best_params_)\n",
    "means = grid_result.cv_results_['mean_test_score']\n",
    "stds = grid_result.cv_results_['std_test_score']\n",
    "params = grid_result.cv_results_['params']\n",
    "for mean, stdev, param in zip(means, stds, params):\n",
    "    print \"%f (%f) with: %r\" % (mean, stdev, param)"
   ]
  },
  {
   "cell_type": "code",
   "execution_count": 9,
   "metadata": {},
   "outputs": [
    {
     "name": "stdout",
     "output_type": "stream",
     "text": [
      "Accuracy: 0.740107474411\n"
     ]
    }
   ],
   "source": [
    "score = grid.score(X_test, Y_test)\n",
    "print 'Accuracy:', score"
   ]
  },
  {
   "cell_type": "code",
   "execution_count": null,
   "metadata": {
    "collapsed": true
   },
   "outputs": [],
   "source": []
  }
 ],
 "metadata": {
  "kernelspec": {
   "display_name": "Python 2",
   "language": "python",
   "name": "python2"
  },
  "language_info": {
   "codemirror_mode": {
    "name": "ipython",
    "version": 2
   },
   "file_extension": ".py",
   "mimetype": "text/x-python",
   "name": "python",
   "nbconvert_exporter": "python",
   "pygments_lexer": "ipython2",
   "version": "2.7.13"
  }
 },
 "nbformat": 4,
 "nbformat_minor": 2
}
